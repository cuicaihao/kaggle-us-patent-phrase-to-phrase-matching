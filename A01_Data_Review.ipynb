{
 "cells": [
  {
   "cell_type": "markdown",
   "metadata": {},
   "source": [
    "# Data Description\n",
    "In this dataset, you are presented pairs of phrases (an anchor and a target phrase) and asked to rate how similar they are on a scale from 0 (not at all similar) to 1 (identical in meaning). This challenge differs from a standard semantic similarity task in that similarity has been scored here within a patent's context, specifically its CPC classification (version 2021.05), which indicates the subject to which the patent relates. For example, while the phrases \"bird\" and \"Cape Cod\" may have low semantic similarity in normal language, the likeness of their meaning is much closer if considered in the context of \"house\".\n",
    "\n",
    "This is a code competition, in which you will submit code that will be run against an unseen test set. The unseen test set contains approximately 12k pairs of phrases. A small public test set has been provided for testing purposes, but is not used in scoring.\n",
    "\n",
    "Information on the meaning of CPC codes may be found on the USPTO website. The CPC version 2021.05 can be found on the CPC archive website.\n",
    "\n",
    "## Score meanings\n",
    "The scores are in the 0-1 range with increments of 0.25 with the following meanings:\n",
    "\n",
    "- 1.0 - Very close match. This is typically an exact match except possibly for differences in conjugation, quantity (e.g. singular vs. plural), and addition or removal of stopwords (e.g. “the”, “and”, “or”).\n",
    "- 0.75 - Close synonym, e.g. “mobile phone” vs. “cellphone”. This also includes abbreviations, e.g. \"TCP\" -> \"transmission control protocol\".\n",
    "- 0.5 - Synonyms which don’t have the same meaning (same function, same properties). This includes broad-narrow (hyponym) and narrow-broad (hypernym) matches.\n",
    "- 0.25 - Somewhat related, e.g. the two phrases are in the same high level domain but are not synonyms. This also includes antonyms.\n",
    "- 0.0 - Unrelated.\n",
    "\n",
    "## Files\n",
    "- train.csv - the training set, containing phrases, contexts, and their similarity scores\n",
    "- test.csv - the test set set, identical in structure to the training set but without the score\n",
    "- sample_submission.csv - a sample submission file in the correct format\n",
    "\n",
    "## Columns\n",
    "- id - a unique identifier for a pair of phrases\n",
    "- anchor - the first phrase\n",
    "- target - the second phrase\n",
    "- context - the CPC classification (version 2021.05), which indicates the subject within which the similarity is to be scored\n",
    "- score - the similarity. This is sourced from a combination of one or more manual expert ratings.\n",
    "\n",
    "> \"Google Patent Phrase Similarity Dataset\" by Google is licensed under a Creative Commons Attribution 4.0 International License (CC BY 4.0)"
   ]
  },
  {
   "cell_type": "code",
   "execution_count": 1,
   "metadata": {},
   "outputs": [],
   "source": [
    "%matplotlib inline\n",
    "\n",
    "import numpy as np\n",
    "import warnings\n",
    "import matplotlib.pyplot as plt\n",
    "\n",
    "warnings.filterwarnings('ignore')\n",
    "np.random.seed(2022)"
   ]
  },
  {
   "cell_type": "code",
   "execution_count": 2,
   "metadata": {},
   "outputs": [],
   "source": [
    "import pandas as pd\n",
    "import numpy as np"
   ]
  },
  {
   "cell_type": "code",
   "execution_count": 3,
   "metadata": {},
   "outputs": [],
   "source": [
    "sts_train_data = pd.read_csv('./data/train.csv', index_col='id')\n",
    "sts_test_data = pd.read_csv('./data/test.csv', index_col='id')"
   ]
  },
  {
   "cell_type": "code",
   "execution_count": 4,
   "metadata": {},
   "outputs": [
    {
     "data": {
      "text/html": [
       "<div>\n",
       "<style scoped>\n",
       "    .dataframe tbody tr th:only-of-type {\n",
       "        vertical-align: middle;\n",
       "    }\n",
       "\n",
       "    .dataframe tbody tr th {\n",
       "        vertical-align: top;\n",
       "    }\n",
       "\n",
       "    .dataframe thead th {\n",
       "        text-align: right;\n",
       "    }\n",
       "</style>\n",
       "<table border=\"1\" class=\"dataframe\">\n",
       "  <thead>\n",
       "    <tr style=\"text-align: right;\">\n",
       "      <th></th>\n",
       "      <th>anchor</th>\n",
       "      <th>target</th>\n",
       "      <th>score</th>\n",
       "    </tr>\n",
       "    <tr>\n",
       "      <th>id</th>\n",
       "      <th></th>\n",
       "      <th></th>\n",
       "      <th></th>\n",
       "    </tr>\n",
       "  </thead>\n",
       "  <tbody>\n",
       "    <tr>\n",
       "      <th>37d61fd2272659b1</th>\n",
       "      <td>abatement</td>\n",
       "      <td>abatement of pollution</td>\n",
       "      <td>0.50</td>\n",
       "    </tr>\n",
       "    <tr>\n",
       "      <th>7b9652b17b68b7a4</th>\n",
       "      <td>abatement</td>\n",
       "      <td>act of abating</td>\n",
       "      <td>0.75</td>\n",
       "    </tr>\n",
       "    <tr>\n",
       "      <th>36d72442aefd8232</th>\n",
       "      <td>abatement</td>\n",
       "      <td>active catalyst</td>\n",
       "      <td>0.25</td>\n",
       "    </tr>\n",
       "    <tr>\n",
       "      <th>5296b0c19e1ce60e</th>\n",
       "      <td>abatement</td>\n",
       "      <td>eliminating process</td>\n",
       "      <td>0.50</td>\n",
       "    </tr>\n",
       "    <tr>\n",
       "      <th>54c1e3b9184cb5b6</th>\n",
       "      <td>abatement</td>\n",
       "      <td>forest region</td>\n",
       "      <td>0.00</td>\n",
       "    </tr>\n",
       "    <tr>\n",
       "      <th>...</th>\n",
       "      <td>...</td>\n",
       "      <td>...</td>\n",
       "      <td>...</td>\n",
       "    </tr>\n",
       "    <tr>\n",
       "      <th>8e1386cbefd7f245</th>\n",
       "      <td>wood article</td>\n",
       "      <td>wooden article</td>\n",
       "      <td>1.00</td>\n",
       "    </tr>\n",
       "    <tr>\n",
       "      <th>42d9e032d1cd3242</th>\n",
       "      <td>wood article</td>\n",
       "      <td>wooden box</td>\n",
       "      <td>0.50</td>\n",
       "    </tr>\n",
       "    <tr>\n",
       "      <th>208654ccb9e14fa3</th>\n",
       "      <td>wood article</td>\n",
       "      <td>wooden handle</td>\n",
       "      <td>0.50</td>\n",
       "    </tr>\n",
       "    <tr>\n",
       "      <th>756ec035e694722b</th>\n",
       "      <td>wood article</td>\n",
       "      <td>wooden material</td>\n",
       "      <td>0.75</td>\n",
       "    </tr>\n",
       "    <tr>\n",
       "      <th>8d135da0b55b8c88</th>\n",
       "      <td>wood article</td>\n",
       "      <td>wooden substrate</td>\n",
       "      <td>0.50</td>\n",
       "    </tr>\n",
       "  </tbody>\n",
       "</table>\n",
       "<p>36473 rows × 3 columns</p>\n",
       "</div>"
      ],
      "text/plain": [
       "                        anchor                  target  score\n",
       "id                                                           \n",
       "37d61fd2272659b1     abatement  abatement of pollution   0.50\n",
       "7b9652b17b68b7a4     abatement          act of abating   0.75\n",
       "36d72442aefd8232     abatement         active catalyst   0.25\n",
       "5296b0c19e1ce60e     abatement     eliminating process   0.50\n",
       "54c1e3b9184cb5b6     abatement           forest region   0.00\n",
       "...                        ...                     ...    ...\n",
       "8e1386cbefd7f245  wood article          wooden article   1.00\n",
       "42d9e032d1cd3242  wood article              wooden box   0.50\n",
       "208654ccb9e14fa3  wood article           wooden handle   0.50\n",
       "756ec035e694722b  wood article         wooden material   0.75\n",
       "8d135da0b55b8c88  wood article        wooden substrate   0.50\n",
       "\n",
       "[36473 rows x 3 columns]"
      ]
     },
     "metadata": {},
     "output_type": "display_data"
    }
   ],
   "source": [
    "# display(sts_train_data)\n",
    "sts_train_data.drop(columns=['context'], inplace=True)\n",
    "display(sts_train_data)"
   ]
  },
  {
   "cell_type": "code",
   "execution_count": 5,
   "metadata": {},
   "outputs": [],
   "source": [
    "# display(sts_train_data.sample(2000))"
   ]
  },
  {
   "cell_type": "code",
   "execution_count": 6,
   "metadata": {},
   "outputs": [
    {
     "data": {
      "text/html": [
       "<div>\n",
       "<style scoped>\n",
       "    .dataframe tbody tr th:only-of-type {\n",
       "        vertical-align: middle;\n",
       "    }\n",
       "\n",
       "    .dataframe tbody tr th {\n",
       "        vertical-align: top;\n",
       "    }\n",
       "\n",
       "    .dataframe thead th {\n",
       "        text-align: right;\n",
       "    }\n",
       "</style>\n",
       "<table border=\"1\" class=\"dataframe\">\n",
       "  <thead>\n",
       "    <tr style=\"text-align: right;\">\n",
       "      <th></th>\n",
       "      <th>anchor</th>\n",
       "      <th>target</th>\n",
       "    </tr>\n",
       "    <tr>\n",
       "      <th>id</th>\n",
       "      <th></th>\n",
       "      <th></th>\n",
       "    </tr>\n",
       "  </thead>\n",
       "  <tbody>\n",
       "    <tr>\n",
       "      <th>4112d61851461f60</th>\n",
       "      <td>opc drum</td>\n",
       "      <td>inorganic photoconductor drum</td>\n",
       "    </tr>\n",
       "    <tr>\n",
       "      <th>09e418c93a776564</th>\n",
       "      <td>adjust gas flow</td>\n",
       "      <td>altering gas flow</td>\n",
       "    </tr>\n",
       "    <tr>\n",
       "      <th>36baf228038e314b</th>\n",
       "      <td>lower trunnion</td>\n",
       "      <td>lower locating</td>\n",
       "    </tr>\n",
       "    <tr>\n",
       "      <th>1f37ead645e7f0c8</th>\n",
       "      <td>cap component</td>\n",
       "      <td>upper portion</td>\n",
       "    </tr>\n",
       "    <tr>\n",
       "      <th>71a5b6ad068d531f</th>\n",
       "      <td>neural stimulation</td>\n",
       "      <td>artificial neural network</td>\n",
       "    </tr>\n",
       "  </tbody>\n",
       "</table>\n",
       "</div>"
      ],
      "text/plain": [
       "                              anchor                         target\n",
       "id                                                                 \n",
       "4112d61851461f60            opc drum  inorganic photoconductor drum\n",
       "09e418c93a776564     adjust gas flow              altering gas flow\n",
       "36baf228038e314b      lower trunnion                 lower locating\n",
       "1f37ead645e7f0c8       cap component                  upper portion\n",
       "71a5b6ad068d531f  neural stimulation      artificial neural network"
      ]
     },
     "metadata": {},
     "output_type": "display_data"
    }
   ],
   "source": [
    "sts_test_data.drop(columns=['context'], inplace=True)\n",
    "display(sts_test_data.head())"
   ]
  },
  {
   "cell_type": "code",
   "execution_count": 7,
   "metadata": {},
   "outputs": [],
   "source": [
    "sts_train_data.rename(columns={'anchor': 'sentence1', 'target':'sentence2'}, inplace=True)\n",
    "sts_test_data.rename(columns={'anchor': 'sentence1', 'target':'sentence2'}, inplace=True)"
   ]
  },
  {
   "cell_type": "markdown",
   "metadata": {},
   "source": [
    "In this data, the column named score contains numerical values (which we’d like to predict) that are human-annotated similarity scores for each given pair of sentences."
   ]
  },
  {
   "cell_type": "code",
   "execution_count": 8,
   "metadata": {},
   "outputs": [
    {
     "name": "stdout",
     "output_type": "stream",
     "text": [
      "Min score= 0.0 , Max score= 1.0\n"
     ]
    }
   ],
   "source": [
    "print('Min score=', min(sts_train_data['score']), ', Max score=', max(sts_train_data['score']))\n"
   ]
  },
  {
   "cell_type": "code",
   "execution_count": 9,
   "metadata": {},
   "outputs": [
    {
     "name": "stderr",
     "output_type": "stream",
     "text": [
      "Load pretrained checkpoint: ./ag_sts/model.ckpt\n"
     ]
    }
   ],
   "source": [
    "from autogluon.text import TextPredictor\n",
    "predictor_sts = TextPredictor.load(path='./ag_sts')\n",
    "# predictor_sts.fit(sts_train_data, time_limit=60*60)"
   ]
  },
  {
   "cell_type": "code",
   "execution_count": 12,
   "metadata": {},
   "outputs": [
    {
     "data": {
      "text/plain": [
       "<autogluon.text.automm.predictor.AutoMMPredictor at 0x7ff130ffe100>"
      ]
     },
     "execution_count": 12,
     "metadata": {},
     "output_type": "execute_result"
    }
   ],
   "source": [
    "predictor_sts"
   ]
  },
  {
   "cell_type": "code",
   "execution_count": 13,
   "metadata": {},
   "outputs": [
    {
     "name": "stdout",
     "output_type": "stream",
     "text": [
      "Predicting: 100%|██████████| 1/1 [00:09<00:00,  9.18s/it]\n"
     ]
    }
   ],
   "source": [
    "train_resuls = predictor_sts.predict(sts_train_data.head(10))"
   ]
  },
  {
   "cell_type": "code",
   "execution_count": 14,
   "metadata": {},
   "outputs": [
    {
     "data": {
      "text/plain": [
       "id\n",
       "37d61fd2272659b1    2\n",
       "7b9652b17b68b7a4    2\n",
       "36d72442aefd8232    1\n",
       "5296b0c19e1ce60e    2\n",
       "54c1e3b9184cb5b6    1\n",
       "067203128142739c    1\n",
       "061d17f04be2d1cf    1\n",
       "e1f44e48399a2027    1\n",
       "0a425937a3e86d10    2\n",
       "ef2d4c2e6bbb208d    1\n",
       "Name: score, dtype: int64"
      ]
     },
     "execution_count": 14,
     "metadata": {},
     "output_type": "execute_result"
    }
   ],
   "source": [
    "train_resuls"
   ]
  },
  {
   "cell_type": "code",
   "execution_count": 23,
   "metadata": {},
   "outputs": [
    {
     "name": "stdout",
     "output_type": "stream",
     "text": [
      "Predicting: 100%|██████████| 570/570 [13:36<00:00,  1.43s/it]\n"
     ]
    },
    {
     "ename": "NameError",
     "evalue": "name 'test_score' is not defined",
     "output_type": "error",
     "traceback": [
      "\u001b[0;31m---------------------------------------------------------------------------\u001b[0m",
      "\u001b[0;31mNameError\u001b[0m                                 Traceback (most recent call last)",
      "\u001b[1;32m/Users/caihaocui/Documents/GitHub/kaggle-us-patent-phrase-to-phrase-matching/A01_Data_Review.ipynb Cell 13'\u001b[0m in \u001b[0;36m<cell line: 2>\u001b[0;34m()\u001b[0m\n\u001b[1;32m      <a href='vscode-notebook-cell:/Users/caihaocui/Documents/GitHub/kaggle-us-patent-phrase-to-phrase-matching/A01_Data_Review.ipynb#ch0000017?line=0'>1</a>\u001b[0m train_score \u001b[39m=\u001b[39m predictor_sts\u001b[39m.\u001b[39mevaluate(sts_train_data, metrics\u001b[39m=\u001b[39m[\u001b[39m'\u001b[39m\u001b[39mrmse\u001b[39m\u001b[39m'\u001b[39m, \u001b[39m'\u001b[39m\u001b[39mpearsonr\u001b[39m\u001b[39m'\u001b[39m, \u001b[39m'\u001b[39m\u001b[39mspearmanr\u001b[39m\u001b[39m'\u001b[39m])\n\u001b[0;32m----> <a href='vscode-notebook-cell:/Users/caihaocui/Documents/GitHub/kaggle-us-patent-phrase-to-phrase-matching/A01_Data_Review.ipynb#ch0000017?line=1'>2</a>\u001b[0m \u001b[39mprint\u001b[39m(\u001b[39m'\u001b[39m\u001b[39mRMSE = \u001b[39m\u001b[39m{:.2f}\u001b[39;00m\u001b[39m'\u001b[39m\u001b[39m.\u001b[39mformat(test_score[\u001b[39m'\u001b[39m\u001b[39mrmse\u001b[39m\u001b[39m'\u001b[39m]))\n\u001b[1;32m      <a href='vscode-notebook-cell:/Users/caihaocui/Documents/GitHub/kaggle-us-patent-phrase-to-phrase-matching/A01_Data_Review.ipynb#ch0000017?line=2'>3</a>\u001b[0m \u001b[39mprint\u001b[39m(\u001b[39m'\u001b[39m\u001b[39mPEARSONR = \u001b[39m\u001b[39m{:.4f}\u001b[39;00m\u001b[39m'\u001b[39m\u001b[39m.\u001b[39mformat(test_score[\u001b[39m'\u001b[39m\u001b[39mpearsonr\u001b[39m\u001b[39m'\u001b[39m]))\n\u001b[1;32m      <a href='vscode-notebook-cell:/Users/caihaocui/Documents/GitHub/kaggle-us-patent-phrase-to-phrase-matching/A01_Data_Review.ipynb#ch0000017?line=3'>4</a>\u001b[0m \u001b[39mprint\u001b[39m(\u001b[39m'\u001b[39m\u001b[39mSPEARMANR = \u001b[39m\u001b[39m{:.4f}\u001b[39;00m\u001b[39m'\u001b[39m\u001b[39m.\u001b[39mformat(test_score[\u001b[39m'\u001b[39m\u001b[39mspearmanr\u001b[39m\u001b[39m'\u001b[39m]))\n",
      "\u001b[0;31mNameError\u001b[0m: name 'test_score' is not defined"
     ]
    }
   ],
   "source": [
    "train_score = predictor_sts.evaluate(sts_train_data, metrics=['rmse', 'pearsonr', 'spearmanr'])"
   ]
  },
  {
   "cell_type": "code",
   "execution_count": 24,
   "metadata": {},
   "outputs": [
    {
     "name": "stdout",
     "output_type": "stream",
     "text": [
      "RMSE = 0.75\n",
      "PEARSONR = 0.7136\n",
      "SPEARMANR = 0.6854\n"
     ]
    }
   ],
   "source": [
    "print('RMSE = {:.2f}'.format(train_score['rmse']))\n",
    "print('PEARSONR = {:.4f}'.format(train_score['pearsonr']))\n",
    "print('SPEARMANR = {:.4f}'.format(train_score['spearmanr']))"
   ]
  },
  {
   "cell_type": "code",
   "execution_count": 25,
   "metadata": {},
   "outputs": [
    {
     "data": {
      "text/plain": [
       "{'rmse': 0.7519338706484906,\n",
       " 'pearsonr': 0.7135913565211445,\n",
       " 'spearmanr': 0.6853648284504438}"
      ]
     },
     "execution_count": 25,
     "metadata": {},
     "output_type": "execute_result"
    }
   ],
   "source": [
    "train_score"
   ]
  },
  {
   "cell_type": "markdown",
   "metadata": {},
   "source": []
  },
  {
   "cell_type": "code",
   "execution_count": 15,
   "metadata": {},
   "outputs": [
    {
     "data": {
      "text/html": [
       "<div>\n",
       "<style scoped>\n",
       "    .dataframe tbody tr th:only-of-type {\n",
       "        vertical-align: middle;\n",
       "    }\n",
       "\n",
       "    .dataframe tbody tr th {\n",
       "        vertical-align: top;\n",
       "    }\n",
       "\n",
       "    .dataframe thead th {\n",
       "        text-align: right;\n",
       "    }\n",
       "</style>\n",
       "<table border=\"1\" class=\"dataframe\">\n",
       "  <thead>\n",
       "    <tr style=\"text-align: right;\">\n",
       "      <th></th>\n",
       "      <th>sentence1</th>\n",
       "      <th>sentence2</th>\n",
       "    </tr>\n",
       "    <tr>\n",
       "      <th>id</th>\n",
       "      <th></th>\n",
       "      <th></th>\n",
       "    </tr>\n",
       "  </thead>\n",
       "  <tbody>\n",
       "    <tr>\n",
       "      <th>4112d61851461f60</th>\n",
       "      <td>opc drum</td>\n",
       "      <td>inorganic photoconductor drum</td>\n",
       "    </tr>\n",
       "    <tr>\n",
       "      <th>09e418c93a776564</th>\n",
       "      <td>adjust gas flow</td>\n",
       "      <td>altering gas flow</td>\n",
       "    </tr>\n",
       "    <tr>\n",
       "      <th>36baf228038e314b</th>\n",
       "      <td>lower trunnion</td>\n",
       "      <td>lower locating</td>\n",
       "    </tr>\n",
       "    <tr>\n",
       "      <th>1f37ead645e7f0c8</th>\n",
       "      <td>cap component</td>\n",
       "      <td>upper portion</td>\n",
       "    </tr>\n",
       "    <tr>\n",
       "      <th>71a5b6ad068d531f</th>\n",
       "      <td>neural stimulation</td>\n",
       "      <td>artificial neural network</td>\n",
       "    </tr>\n",
       "  </tbody>\n",
       "</table>\n",
       "</div>"
      ],
      "text/plain": [
       "                           sentence1                      sentence2\n",
       "id                                                                 \n",
       "4112d61851461f60            opc drum  inorganic photoconductor drum\n",
       "09e418c93a776564     adjust gas flow              altering gas flow\n",
       "36baf228038e314b      lower trunnion                 lower locating\n",
       "1f37ead645e7f0c8       cap component                  upper portion\n",
       "71a5b6ad068d531f  neural stimulation      artificial neural network"
      ]
     },
     "execution_count": 15,
     "metadata": {},
     "output_type": "execute_result"
    }
   ],
   "source": [
    "sts_test_data.head()"
   ]
  },
  {
   "cell_type": "code",
   "execution_count": 16,
   "metadata": {},
   "outputs": [
    {
     "name": "stdout",
     "output_type": "stream",
     "text": [
      "Predicting: 100%|██████████| 1/1 [00:08<00:00,  8.98s/it]\n",
      "[2]\n"
     ]
    }
   ],
   "source": [
    "score1 = predictor_sts.predict({'sentence1': ['opc drum'],\n",
    "                                'sentence2': ['inorganic photoconductor drum']}, as_pandas=False)\n",
    "print(score1)"
   ]
  },
  {
   "cell_type": "code",
   "execution_count": 18,
   "metadata": {},
   "outputs": [
    {
     "name": "stdout",
     "output_type": "stream",
     "text": [
      "Predicting: 100%|██████████| 1/1 [00:09<00:00,  9.76s/it]\n"
     ]
    }
   ],
   "source": [
    "results = predictor_sts.predict(sts_test_data) "
   ]
  },
  {
   "cell_type": "code",
   "execution_count": 21,
   "metadata": {},
   "outputs": [],
   "source": [
    "submission = pd.DataFrame({ 'score': results/4})\n",
    "submission.to_csv('submission.csv', index=True)"
   ]
  },
  {
   "cell_type": "code",
   "execution_count": 22,
   "metadata": {},
   "outputs": [
    {
     "data": {
      "text/html": [
       "<div>\n",
       "<style scoped>\n",
       "    .dataframe tbody tr th:only-of-type {\n",
       "        vertical-align: middle;\n",
       "    }\n",
       "\n",
       "    .dataframe tbody tr th {\n",
       "        vertical-align: top;\n",
       "    }\n",
       "\n",
       "    .dataframe thead th {\n",
       "        text-align: right;\n",
       "    }\n",
       "</style>\n",
       "<table border=\"1\" class=\"dataframe\">\n",
       "  <thead>\n",
       "    <tr style=\"text-align: right;\">\n",
       "      <th></th>\n",
       "      <th>score</th>\n",
       "    </tr>\n",
       "    <tr>\n",
       "      <th>id</th>\n",
       "      <th></th>\n",
       "    </tr>\n",
       "  </thead>\n",
       "  <tbody>\n",
       "    <tr>\n",
       "      <th>4112d61851461f60</th>\n",
       "      <td>0.50</td>\n",
       "    </tr>\n",
       "    <tr>\n",
       "      <th>09e418c93a776564</th>\n",
       "      <td>0.75</td>\n",
       "    </tr>\n",
       "    <tr>\n",
       "      <th>36baf228038e314b</th>\n",
       "      <td>0.50</td>\n",
       "    </tr>\n",
       "    <tr>\n",
       "      <th>1f37ead645e7f0c8</th>\n",
       "      <td>0.25</td>\n",
       "    </tr>\n",
       "    <tr>\n",
       "      <th>71a5b6ad068d531f</th>\n",
       "      <td>0.50</td>\n",
       "    </tr>\n",
       "    <tr>\n",
       "      <th>474c874d0c07bd21</th>\n",
       "      <td>0.50</td>\n",
       "    </tr>\n",
       "    <tr>\n",
       "      <th>442c114ed5c4e3c9</th>\n",
       "      <td>0.50</td>\n",
       "    </tr>\n",
       "    <tr>\n",
       "      <th>b8ae62ea5e1d8bdb</th>\n",
       "      <td>0.00</td>\n",
       "    </tr>\n",
       "    <tr>\n",
       "      <th>faaddaf8fcba8a3f</th>\n",
       "      <td>0.50</td>\n",
       "    </tr>\n",
       "    <tr>\n",
       "      <th>ae0262c02566d2ce</th>\n",
       "      <td>1.00</td>\n",
       "    </tr>\n",
       "    <tr>\n",
       "      <th>a8808e31641e856d</th>\n",
       "      <td>0.25</td>\n",
       "    </tr>\n",
       "    <tr>\n",
       "      <th>16ae4b99d3601e60</th>\n",
       "      <td>0.25</td>\n",
       "    </tr>\n",
       "    <tr>\n",
       "      <th>25c555ca3d5a2092</th>\n",
       "      <td>0.75</td>\n",
       "    </tr>\n",
       "    <tr>\n",
       "      <th>5203a36c501f1b7c</th>\n",
       "      <td>0.75</td>\n",
       "    </tr>\n",
       "    <tr>\n",
       "      <th>b9fdc772bb8fd61c</th>\n",
       "      <td>1.00</td>\n",
       "    </tr>\n",
       "    <tr>\n",
       "      <th>7aa5908a77a7ec24</th>\n",
       "      <td>0.50</td>\n",
       "    </tr>\n",
       "    <tr>\n",
       "      <th>d19ef3979396d47e</th>\n",
       "      <td>0.25</td>\n",
       "    </tr>\n",
       "    <tr>\n",
       "      <th>fd83613b7843f5e1</th>\n",
       "      <td>0.50</td>\n",
       "    </tr>\n",
       "    <tr>\n",
       "      <th>2a619016908bfa45</th>\n",
       "      <td>0.50</td>\n",
       "    </tr>\n",
       "    <tr>\n",
       "      <th>733979d75f59770d</th>\n",
       "      <td>0.50</td>\n",
       "    </tr>\n",
       "    <tr>\n",
       "      <th>6546846df17f9800</th>\n",
       "      <td>0.50</td>\n",
       "    </tr>\n",
       "    <tr>\n",
       "      <th>3ff0e7a35015be69</th>\n",
       "      <td>0.25</td>\n",
       "    </tr>\n",
       "    <tr>\n",
       "      <th>12ca31f018a2e2b9</th>\n",
       "      <td>0.25</td>\n",
       "    </tr>\n",
       "    <tr>\n",
       "      <th>03ba802ed4029e4d</th>\n",
       "      <td>0.25</td>\n",
       "    </tr>\n",
       "    <tr>\n",
       "      <th>c404f8b378cbb008</th>\n",
       "      <td>0.50</td>\n",
       "    </tr>\n",
       "    <tr>\n",
       "      <th>78243984c02a72e4</th>\n",
       "      <td>0.00</td>\n",
       "    </tr>\n",
       "    <tr>\n",
       "      <th>de51114bc0faec3e</th>\n",
       "      <td>0.50</td>\n",
       "    </tr>\n",
       "    <tr>\n",
       "      <th>7e3aff857f056bf9</th>\n",
       "      <td>0.00</td>\n",
       "    </tr>\n",
       "    <tr>\n",
       "      <th>26c3c6dc6174b589</th>\n",
       "      <td>0.00</td>\n",
       "    </tr>\n",
       "    <tr>\n",
       "      <th>b892011ab2e2cabc</th>\n",
       "      <td>0.75</td>\n",
       "    </tr>\n",
       "    <tr>\n",
       "      <th>8247ff562ca185cc</th>\n",
       "      <td>0.50</td>\n",
       "    </tr>\n",
       "    <tr>\n",
       "      <th>c057aecbba832387</th>\n",
       "      <td>0.25</td>\n",
       "    </tr>\n",
       "    <tr>\n",
       "      <th>9f2279ce667b21dc</th>\n",
       "      <td>0.75</td>\n",
       "    </tr>\n",
       "    <tr>\n",
       "      <th>b9ea2b06a878df6f</th>\n",
       "      <td>0.50</td>\n",
       "    </tr>\n",
       "    <tr>\n",
       "      <th>79795133c30ef097</th>\n",
       "      <td>0.25</td>\n",
       "    </tr>\n",
       "    <tr>\n",
       "      <th>25522ee5411e63e9</th>\n",
       "      <td>0.25</td>\n",
       "    </tr>\n",
       "  </tbody>\n",
       "</table>\n",
       "</div>"
      ],
      "text/plain": [
       "                  score\n",
       "id                     \n",
       "4112d61851461f60   0.50\n",
       "09e418c93a776564   0.75\n",
       "36baf228038e314b   0.50\n",
       "1f37ead645e7f0c8   0.25\n",
       "71a5b6ad068d531f   0.50\n",
       "474c874d0c07bd21   0.50\n",
       "442c114ed5c4e3c9   0.50\n",
       "b8ae62ea5e1d8bdb   0.00\n",
       "faaddaf8fcba8a3f   0.50\n",
       "ae0262c02566d2ce   1.00\n",
       "a8808e31641e856d   0.25\n",
       "16ae4b99d3601e60   0.25\n",
       "25c555ca3d5a2092   0.75\n",
       "5203a36c501f1b7c   0.75\n",
       "b9fdc772bb8fd61c   1.00\n",
       "7aa5908a77a7ec24   0.50\n",
       "d19ef3979396d47e   0.25\n",
       "fd83613b7843f5e1   0.50\n",
       "2a619016908bfa45   0.50\n",
       "733979d75f59770d   0.50\n",
       "6546846df17f9800   0.50\n",
       "3ff0e7a35015be69   0.25\n",
       "12ca31f018a2e2b9   0.25\n",
       "03ba802ed4029e4d   0.25\n",
       "c404f8b378cbb008   0.50\n",
       "78243984c02a72e4   0.00\n",
       "de51114bc0faec3e   0.50\n",
       "7e3aff857f056bf9   0.00\n",
       "26c3c6dc6174b589   0.00\n",
       "b892011ab2e2cabc   0.75\n",
       "8247ff562ca185cc   0.50\n",
       "c057aecbba832387   0.25\n",
       "9f2279ce667b21dc   0.75\n",
       "b9ea2b06a878df6f   0.50\n",
       "79795133c30ef097   0.25\n",
       "25522ee5411e63e9   0.25"
      ]
     },
     "execution_count": 22,
     "metadata": {},
     "output_type": "execute_result"
    }
   ],
   "source": [
    "submission"
   ]
  },
  {
   "cell_type": "code",
   "execution_count": null,
   "metadata": {},
   "outputs": [],
   "source": []
  }
 ],
 "metadata": {
  "interpreter": {
   "hash": "a093a032676e37e8cef57c8132808b5292abfee6a72b56b4b4013844536fed1b"
  },
  "kernelspec": {
   "display_name": "Python 3.8.12 ('autogluon')",
   "language": "python",
   "name": "python3"
  },
  "language_info": {
   "codemirror_mode": {
    "name": "ipython",
    "version": 3
   },
   "file_extension": ".py",
   "mimetype": "text/x-python",
   "name": "python",
   "nbconvert_exporter": "python",
   "pygments_lexer": "ipython3",
   "version": "3.8.12"
  },
  "orig_nbformat": 4
 },
 "nbformat": 4,
 "nbformat_minor": 2
}
